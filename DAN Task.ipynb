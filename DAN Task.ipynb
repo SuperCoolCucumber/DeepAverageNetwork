{
 "cells": [
  {
   "cell_type": "code",
   "execution_count": 2,
   "id": "7f9c64fb",
   "metadata": {},
   "outputs": [],
   "source": [
    "from typing import Dict, List\n",
    "\n",
    "import matplotlib.pyplot as plt\n",
    "import numpy as np\n",
    "import pandas as pd\n",
    "import seaborn as sns\n",
    "import torch\n",
    "\n",
    "from datasets import load_dataset\n",
    "from nltk.tokenize import ToktokTokenizer\n",
    "from sklearn.metrics import f1_score\n",
    "from torch import nn\n",
    "\n",
    "from torch.utils.data import DataLoader\n",
    "from tqdm import tqdm"
   ]
  },
  {
   "cell_type": "markdown",
   "id": "102d7074",
   "metadata": {},
   "source": [
    "# Deep Average Network для определения сентимента "
   ]
  },
  {
   "cell_type": "markdown",
   "id": "46d972fe",
   "metadata": {},
   "source": [
    "В этой домашке мы будет классифицировать твиты на 3 тональности.  \n",
    "Вы будете использовать предобученные эмбеддинги слов, так что для начала обязательно нужно посмотреть [туториал по их использованию](https://github.com/BobaZooba/DeepNLP/blob/master/Tutorials/Word%20vectors%20%26%20Data%20Loading.ipynb).\n",
    "\n",
    "Наши классы:  \n",
    "\n",
    "Индекс | Sentiment  \n",
    "-- | --  \n",
    "0 | negative  \n",
    "1 | neutral  \n",
    "2 | positive  "
   ]
  },
  {
   "cell_type": "markdown",
   "id": "55010212",
   "metadata": {},
   "source": [
    "Вам предстоит реализовать такую модель:\n",
    "![Архитектура модели DAN](https://www.researchgate.net/profile/Shervin-Minaee/publication/340523298/figure/fig1/AS:878252264550411@1586403065555/The-architecture-of-the-Deep-Average-Network-DAN-10.ppm)\n",
    "\n",
    "Что она из себя представляет:\n",
    "- Мы подаем в нее индексы слов\n",
    "- Переводим индексы слов в эмбеддинги\n",
    "- Усредняем эмбеддинги\n",
    "- Пропускаем усредненные эмбеддинги через `Multilayer Perceptron`\n",
    "\n",
    "В этой домашке вам предстоит:\n",
    "- Перевести тексты в матрицы с индексами токенов\n",
    "- Реализовать модель\n",
    "- Обучить ее\n",
    "- Понять хорошо ли вы это сделали\n",
    "\n",
    "Это очень важная модель, потому что она очень простая и показывает достаточно высокие метрики. В дальнейшем на работе советую использовать такую модель как бейзлайн. И в качестве эмбеддингов слов взять эмбеддинги от берта/роберты/тд."
   ]
  },
  {
   "cell_type": "markdown",
   "id": "65faf753",
   "metadata": {},
   "source": [
    "## 🤗 Datasets\n",
    "В этом туториале мы будем использовать подготовленные данные из библиотеки [datasets](https://github.com/huggingface/datasets). Мы вряд ли еще будем пользоваться этой библиотекой, так как нам будет важно самим подготавливать данные. Во-первых, для простоты, во-вторых, здесь есть достаточно неплохие практики. [Здесь](https://huggingface.co/datasets) вы сможете найти достаточно большое количество различных датасетов. Возможно, когда-нибудь они вам пригодятся."
   ]
  },
  {
   "cell_type": "markdown",
   "id": "5927f02a",
   "metadata": {},
   "source": [
    "## Загрузите эмбеддинги слов\n",
    "Реализуйте функцию по загрузке эмбеддингов из файла. Она должна отдавать словарь слов и `np.array`\n",
    "Формат словаря:\n",
    "```python\n",
    "{\n",
    "    'aabra': 0,\n",
    "    ...,\n",
    "    'mom': 6546,\n",
    "    ...\n",
    "    'xyz': 100355\n",
    "}\n",
    "```\n",
    "Формат матрицы эмбеддингов:\n",
    "```python\n",
    "array([[0.44442278, 0.28644582, 0.04357426, ..., 0.9425766 , 0.02024289,\n",
    "        0.88456545],\n",
    "       [0.77599317, 0.35188237, 0.54801261, ..., 0.91134102, 0.88599103,\n",
    "        0.88068835],\n",
    "       [0.68071886, 0.29352313, 0.95952505, ..., 0.19127958, 0.97723054,\n",
    "        0.36294011],\n",
    "       ...,\n",
    "       [0.03589378, 0.85429694, 0.33437761, ..., 0.39784873, 0.80368014,\n",
    "        0.76368042],\n",
    "       [0.01498725, 0.78155695, 0.80372969, ..., 0.82051826, 0.42314861,\n",
    "        0.18655465],\n",
    "       [0.69263802, 0.82090775, 0.27150426, ..., 0.86582747, 0.40896573,\n",
    "        0.33423976]])\n",
    "```\n",
    "\n",
    "Количество строк в матрице эмбеддингов должно совпадать с размером словаря, то есть для каждого токена должен быть свой эмбеддинг. По параметру `num_tokens` должно брать не более указано в этом параметре количество токенов в словарь и матрицу эмбеддингов."
   ]
  },
  {
   "cell_type": "code",
   "execution_count": 3,
   "id": "5431219c",
   "metadata": {},
   "outputs": [],
   "source": [
    "# Раскомментируйте и скачайте эмбеддинги\n",
    "# !wget  https://dl.fbaipublicfiles.com/fasttext/vectors-crawl/cc.ru.300.vec.gz\n",
    "# !gzip -d cc.ru.300.vec.gz"
   ]
  },
  {
   "cell_type": "code",
   "execution_count": 4,
   "id": "6a34e16a",
   "metadata": {},
   "outputs": [],
   "source": [
    "token2index: Dict[str, int] = {}\n",
    "embeddings_matrix: np.array = []\n",
    "\n",
    "with open(\"small.vec\", \"r\") as f:\n",
    "    lines = f.readlines()\n",
    "    for idx, line in enumerate(lines):\n",
    "        if idx == 0: continue\n",
    "        line = line.split(\" \")\n",
    "        word, embedd = line[0],  line[1:]\n",
    "        \n",
    "        token2index[word] = idx-1\n",
    "        embeddings_matrix.append(embedd)\n",
    "\n",
    "        if idx == 30: break\n"
   ]
  },
  {
   "cell_type": "code",
   "execution_count": 5,
   "id": "43db8ffb",
   "metadata": {},
   "outputs": [
    {
     "data": {
      "text/plain": [
       "array([[-0.0326, -0.1499,  0.0232, ..., -0.0237, -0.0261, -0.1832],\n",
       "       [-0.0555, -0.0175,  0.0936, ...,  0.0201,  0.0535, -0.3563],\n",
       "       [-0.0312, -0.0627,  0.0326, ...,  0.0398, -0.2425, -0.2647],\n",
       "       ...,\n",
       "       [-0.0044, -0.1126, -0.026 , ...,  0.1368, -0.2307, -0.3249],\n",
       "       [-0.063 ,  0.0324, -0.0932, ...,  0.1149,  0.0648,  0.0566],\n",
       "       [ 0.1825, -0.0233, -0.0524, ..., -0.0023, -0.1985,  0.0598]])"
      ]
     },
     "execution_count": 5,
     "metadata": {},
     "output_type": "execute_result"
    }
   ],
   "source": [
    "np.array(embeddings_matrix, dtype=float)"
   ]
  },
  {
   "cell_type": "code",
   "execution_count": 6,
   "id": "e15a9f7c",
   "metadata": {},
   "outputs": [],
   "source": [
    "def load_embeddings(path, num_tokens=100_000):\n",
    "\n",
    "    # Необязательно задавать здесь\n",
    "    # Это рекомендация к типу\n",
    "    token2index: Dict[str, int] = {}\n",
    "    embeddings_matrix: np.array = []\n",
    "    pad_token = 'PAD'\n",
    "    unk_token = 'UNK'\n",
    "\n",
    "    token2index[pad_token] = 0\n",
    "    embeddings_matrix.append(np.zeros(300))\n",
    "\n",
    "    token2index[unk_token] = 1\n",
    "    embeddings_matrix.append(np.zeros(300))\n",
    "            \n",
    "    with open(path, \"r\") as f:\n",
    "        lines = f.readlines()\n",
    "    \n",
    "    for idx, line in enumerate(lines):\n",
    "            if idx == 0: continue\n",
    "            line = line.split(\" \")\n",
    "            word, embedd = line[0],  line[1:]\n",
    "            \n",
    "            token2index[word] = idx-1\n",
    "            embeddings_matrix.append(embedd)\n",
    "   \n",
    "    embeddings_matrix = np.array(embeddings_matrix, dtype=float)\n",
    "    assert(len(token2index) == embeddings_matrix.shape[0])\n",
    "    \n",
    "    return token2index, embeddings_matrix\n",
    "\n"
   ]
  },
  {
   "cell_type": "code",
   "execution_count": 7,
   "id": "62fc5196",
   "metadata": {},
   "outputs": [],
   "source": [
    "token2index, embeddings_matrix = load_embeddings(\"small.vec\")"
   ]
  },
  {
   "cell_type": "code",
   "execution_count": 8,
   "id": "3d6819a3",
   "metadata": {},
   "outputs": [
    {
     "data": {
      "text/plain": [
       "{'PAD': 0,\n",
       " 'UNK': 1,\n",
       " ',': 0,\n",
       " '.': 1,\n",
       " 'и': 2,\n",
       " 'в': 3,\n",
       " '</s>': 4,\n",
       " ':': 5,\n",
       " ')': 6,\n",
       " '(': 7,\n",
       " 'на': 8,\n",
       " '\"': 9,\n",
       " 'с': 10,\n",
       " 'не': 11,\n",
       " '»': 12,\n",
       " 'для': 13,\n",
       " '-': 14,\n",
       " '«': 15,\n",
       " '/': 16,\n",
       " 'по': 17,\n",
       " '—': 18,\n",
       " 'что': 19,\n",
       " 'В': 20,\n",
       " '!': 21,\n",
       " 'из': 22,\n",
       " 'от': 23,\n",
       " 'к': 24,\n",
       " 'как': 25,\n",
       " '?': 26,\n",
       " 'а': 27,\n",
       " '–': 28,\n",
       " 'за': 29,\n",
       " ';': 30,\n",
       " 'о': 31,\n",
       " 'или': 32,\n",
       " 'это': 33,\n",
       " '�': 34,\n",
       " '1': 35,\n",
       " '...': 36,\n",
       " '_': 37,\n",
       " \"'\": 38,\n",
       " 'его': 39,\n",
       " 'у': 40,\n",
       " 'до': 41,\n",
       " '|': 42,\n",
       " '2': 43,\n",
       " 'но': 44,\n",
       " 'все': 45,\n",
       " 'года': 46,\n",
       " '+': 47,\n",
       " 'я': 48,\n",
       " 'то': 49,\n",
       " '%': 50,\n",
       " 'при': 51,\n",
       " 'он': 52,\n",
       " 'так': 53,\n",
       " 'же': 54,\n",
       " 'только': 55,\n",
       " '3': 56,\n",
       " 'их': 57,\n",
       " 'А': 58,\n",
       " 'можно': 59,\n",
       " '#': 60,\n",
       " 'был': 61,\n",
       " 'И': 62,\n",
       " 'время': 63,\n",
       " 'также': 64,\n",
       " 'году': 65,\n",
       " '10': 66,\n",
       " 'было': 67,\n",
       " 'будет': 68,\n",
       " 'может': 69,\n",
       " 'вы': 70,\n",
       " '0': 71,\n",
       " 'уже': 72,\n",
       " '[': 73,\n",
       " ']': 74,\n",
       " '4': 75,\n",
       " '>': 76,\n",
       " 'чтобы': 77,\n",
       " 'есть': 78,\n",
       " 'На': 79,\n",
       " 'если': 80,\n",
       " '5': 81,\n",
       " '…': 82,\n",
       " 'г': 83,\n",
       " 'которые': 84,\n",
       " 'С': 85,\n",
       " 'без': 86,\n",
       " 'со': 87,\n",
       " 'очень': 88,\n",
       " 'бы': 89,\n",
       " 'мы': 90,\n",
       " 'этом': 91,\n",
       " 'более': 92,\n",
       " 'под': 93,\n",
       " 'они': 94,\n",
       " 'быть': 95,\n",
       " 'России': 96,\n",
       " 'во': 97,\n",
       " 'Я': 98}"
      ]
     },
     "execution_count": 8,
     "metadata": {},
     "output_type": "execute_result"
    }
   ],
   "source": [
    "token2index"
   ]
  },
  {
   "cell_type": "markdown",
   "id": "c46b2b68",
   "metadata": {},
   "source": [
    "## Загружаем данные из библиотеки\n",
    "Мы сразу получим `torch.utils.data.Dataset`, который сможем передать в `torch.utils.data.DataLoader`"
   ]
  },
  {
   "cell_type": "code",
   "execution_count": 9,
   "id": "e54fdaa8",
   "metadata": {},
   "outputs": [
    {
     "name": "stderr",
     "output_type": "stream",
     "text": [
      "/opt/conda/lib/python3.10/site-packages/huggingface_hub/utils/_deprecation.py:97: FutureWarning: Deprecated argument(s) used in 'dataset_info': token. Will not be supported from version '0.12'.\n",
      "  warnings.warn(message, FutureWarning)\n",
      "Found cached dataset tweet_eval (/home/jovyan/.cache/huggingface/datasets/tweet_eval/sentiment/1.1.0/12aee5282b8784f3e95459466db4cdf45c6bf49719c25cdb0743d71ed0410343)\n",
      "Found cached dataset tweet_eval (/home/jovyan/.cache/huggingface/datasets/tweet_eval/sentiment/1.1.0/12aee5282b8784f3e95459466db4cdf45c6bf49719c25cdb0743d71ed0410343)\n",
      "Found cached dataset tweet_eval (/home/jovyan/.cache/huggingface/datasets/tweet_eval/sentiment/1.1.0/12aee5282b8784f3e95459466db4cdf45c6bf49719c25cdb0743d71ed0410343)\n"
     ]
    }
   ],
   "source": [
    "dataset_path = \"tweet_eval\"\n",
    "dataset_name = \"sentiment\"\n",
    "\n",
    "train_dataset = load_dataset(path=dataset_path, name=dataset_name, split=\"train\")\n",
    "valid_dataset = load_dataset(path=dataset_path, name=dataset_name, split=\"validation\")\n",
    "test_dataset = load_dataset(path=dataset_path, name=dataset_name, split=\"test\")"
   ]
  },
  {
   "cell_type": "markdown",
   "id": "ad4a0650",
   "metadata": {},
   "source": [
    "## `torch.utils.data.DataLoader`"
   ]
  },
  {
   "cell_type": "code",
   "execution_count": 10,
   "id": "dc742027",
   "metadata": {},
   "outputs": [],
   "source": [
    "train_loader = DataLoader(train_dataset, batch_size=2, shuffle=True)\n",
    "valid_loader = DataLoader(valid_dataset, batch_size=2, shuffle=False)\n",
    "test_loader = DataLoader(test_dataset, batch_size=2, shuffle=False)"
   ]
  },
  {
   "cell_type": "markdown",
   "id": "e9012ae5",
   "metadata": {},
   "source": [
    "## Посмотрим что отдает нам `Loader`\n",
    "Это батч формата:\n",
    "```python\n",
    "batch = {\n",
    "    \"text\": [\n",
    "        \"text1\",\n",
    "        \"text2\",\n",
    "        ...,\n",
    "        \"textn\"\n",
    "    ],\n",
    "    \"label\": tensor([\n",
    "        1,\n",
    "        1,\n",
    "        ...,\n",
    "        0\n",
    "    ])\n",
    "}\n",
    "```\n",
    "То есть у нас есть словарь с двумя ключами `text` и `label`, где хранится n примеров. То есть для 5-го примера в батче текст будет храниться в `batch[\"text\"][5]`, а индекс класса будет храниться в `batch[\"label\"][5]`."
   ]
  },
  {
   "cell_type": "code",
   "execution_count": 11,
   "id": "49bf6b50",
   "metadata": {},
   "outputs": [
    {
     "data": {
      "text/plain": [
       "{'text': ['ICC announces teams for WCL Division 3: Dubai: The International Cricket Council (ICC) Thursday announced the ...',\n",
       "  \"Wasn't there an International Women's day on the 8th of March too?\"],\n",
       " 'label': tensor([1, 1])}"
      ]
     },
     "execution_count": 11,
     "metadata": {},
     "output_type": "execute_result"
    }
   ],
   "source": [
    "for batch in train_loader:\n",
    "    break\n",
    "\n",
    "batch"
   ]
  },
  {
   "cell_type": "markdown",
   "id": "b0b9f0e6",
   "metadata": {},
   "source": [
    "## Collate\n",
    "Сейчас перед нами стоит проблема: мы получаем тексты в виде строк, а нам нужны тензоры (матрицы) с индексами токенов, к тому же нам нужно западить последовательности токенов, чтобы все сложить в торчовую матрицу. Мы можем сделать это двумя способами:\n",
    "- Достать из `train/valid/test_dataset` данные и написать свой `Dataset`, где внутри будет токенизировать текст, токены будут переводиться в индексы и затем последовательность будет падиться до нужной длины\n",
    "- Сделать функцию, которая бы дополнительно обрабатывали наши батчи. Она вставляется в `DataLoader(collate_fn=<ВАША_ФУНКЦИЯ>)`"
   ]
  },
  {
   "cell_type": "markdown",
   "id": "d03b0f2e",
   "metadata": {},
   "source": [
    "## Если вы хотите сделать свой `Dataset`\n",
    "То вы можете достать данные таким образом."
   ]
  },
  {
   "cell_type": "code",
   "execution_count": 12,
   "id": "26771f88",
   "metadata": {},
   "outputs": [
    {
     "data": {
      "text/plain": [
       "(45615, 45615)"
      ]
     },
     "execution_count": 12,
     "metadata": {},
     "output_type": "execute_result"
    }
   ],
   "source": [
    "len(train_dataset[\"text\"]), len(train_dataset[\"label\"])"
   ]
  },
  {
   "cell_type": "code",
   "execution_count": 13,
   "id": "f25200be",
   "metadata": {},
   "outputs": [
    {
     "data": {
      "text/plain": [
       "['\"QT @user In the original draft of the 7th book, Remus Lupin survived the Battle of Hogwarts. #HappyBirthdayRemusLupin\"',\n",
       " '\"Ben Smith / Smith (concussion) remains out of the lineup Thursday, Curtis #NHL #SJ\"']"
      ]
     },
     "execution_count": 13,
     "metadata": {},
     "output_type": "execute_result"
    }
   ],
   "source": [
    "train_dataset[\"text\"][:2]"
   ]
  },
  {
   "cell_type": "code",
   "execution_count": 14,
   "id": "d4c952b6",
   "metadata": {},
   "outputs": [
    {
     "data": {
      "text/plain": [
       "[2, 1]"
      ]
     },
     "execution_count": 14,
     "metadata": {},
     "output_type": "execute_result"
    }
   ],
   "source": [
    "train_dataset[\"label\"][:2]"
   ]
  },
  {
   "cell_type": "markdown",
   "id": "68184652",
   "metadata": {},
   "source": [
    "## Если вы хотите сделать `collate_fn`"
   ]
  },
  {
   "cell_type": "markdown",
   "id": "706dab4d",
   "metadata": {},
   "source": [
    "### Давайте посмотрим что вообще происходит внутри этого метода\n",
    "Для этого сделаем функцию `empty_collate`, которая принимает на вход батч и отдает его, ничего с ним не делая"
   ]
  },
  {
   "cell_type": "code",
   "execution_count": 15,
   "id": "3b7ce86b",
   "metadata": {},
   "outputs": [],
   "source": [
    "def empty_collate(batch):\n",
    "    return batch"
   ]
  },
  {
   "cell_type": "code",
   "execution_count": 16,
   "id": "26f0fe92",
   "metadata": {},
   "outputs": [],
   "source": [
    "train_loader = DataLoader(train_dataset, batch_size=2, shuffle=True, collate_fn=empty_collate)\n",
    "valid_loader = DataLoader(valid_dataset, batch_size=2, shuffle=False, collate_fn=empty_collate)\n",
    "test_loader = DataLoader(test_dataset, batch_size=2, shuffle=False, collate_fn=empty_collate)"
   ]
  },
  {
   "cell_type": "code",
   "execution_count": 17,
   "id": "942cf78e",
   "metadata": {},
   "outputs": [
    {
     "data": {
      "text/plain": [
       "[{'text': 'Face like miss America... Body like a stripper... Fuck me like a pornstar... N handle business like the 1st lady... Yea i need that...$$$',\n",
       "  'label': 2},\n",
       " {'text': '@user @user By the IRA? On bloody sunday 13 innocent demonstrators where gunned down in cold blood.',\n",
       "  'label': 0}]"
      ]
     },
     "execution_count": 17,
     "metadata": {},
     "output_type": "execute_result"
    }
   ],
   "source": [
    "for batch in train_loader:\n",
    "    break\n",
    "\n",
    "batch"
   ]
  },
  {
   "cell_type": "markdown",
   "id": "91ca5081",
   "metadata": {},
   "source": [
    "## Формат батча\n",
    "```python\n",
    "batch = [\n",
    "    {\n",
    "        \"text\": \"text1\",\n",
    "        \"label\": 0\n",
    "    }, \n",
    "    {\n",
    "        \"text\": \"text2\",\n",
    "        \"label\": 1\n",
    "    },\n",
    "    ...,\n",
    "    {\n",
    "        \"text\": \"textn\",\n",
    "        \"label\": 1\n",
    "    }\n",
    "]\n",
    "```\n",
    "То есть теперь у нас есть список, где каждый элемент — это словарь со значениями `text` и `label`.  \n",
    "\n",
    "Вы можете сделать функцию или класс с методом `collate`. Этот способ решения домашки предодчтительней, так как использовать `collate` очень хорошая практика.\n",
    "\n",
    "Что я предлагаю:\n",
    "- Сделайте класс `Tokenizer`"
   ]
  },
  {
   "cell_type": "code",
   "execution_count": 18,
   "id": "3b9ddcca",
   "metadata": {},
   "outputs": [],
   "source": [
    "class Tokenizer:\n",
    "    \n",
    "    def __init__(self, base_tokenizer, token2index, pad_token, unk_token, max_length):\n",
    "        \n",
    "        self._base_tokenizer = ToktokTokenizer()  # например ToktokTokenizer()\n",
    "        \n",
    "        self.token2index = token2index  # словарь из load_embeddings()\n",
    "        \n",
    "        self.pad_token = pad_token\n",
    "        self.pad_index = self.token2index[self.pad_token]\n",
    "        \n",
    "        self.unk_token = unk_token\n",
    "        self.unk_index = self.token2index[self.unk_token]\n",
    "        \n",
    "        self.max_length = max_length\n",
    "\n",
    "    def tokenize(self, text):\n",
    "        \"\"\"\n",
    "        В этом методе нужно разделить строку текста на токены\n",
    "        \"\"\"\n",
    "        return self._base_tokenizer.tokenize(text)\n",
    "    \n",
    "    def indexing(self, tokenized_text):\n",
    "        \"\"\"\n",
    "        В этом методе нужно перевести список токенов в список с индексами этих токенов\n",
    "        \"\"\"\n",
    "        token_indices = list()\n",
    "        for i, v in enumerate(tokenized_text):\n",
    "            if v in self.token2index:\n",
    "                token_indices.append(self.token2index[v])\n",
    "            else:\n",
    "                token_indices.append(self.unk_index)\n",
    "        return token_indices\n",
    "        \n",
    "    def padding(self, tokens_indices):\n",
    "        \"\"\"\n",
    "        В этом методе нужно сделать длину tokens_indices равной self.max_length\n",
    "        Опционально убрать повторяющиеся unk'и\n",
    "        \"\"\"\n",
    "        if len(tokens_indices) > self.max_length:\n",
    "            tokens_indices = tokens_indices[:self.max_length]\n",
    "       \n",
    "        if len(tokens_indices) < self.max_length:\n",
    "            tokens_indices = tokens_indices + np.zeros(self.max_length - len(tokens_indices), dtype=int).tolist()\n",
    "\n",
    "        return tokens_indices\n",
    "\n",
    "\n",
    "\n",
    "\n",
    "        # tokens_indices = tokens_indices[:self.max_length]\n",
    "        # return tokens_indices\n",
    "    \n",
    "    def __call__(self, text):\n",
    "        \"\"\"\n",
    "        В этом методе нужно перевести строку с текстом в вектор с индексами слов нужно размера (self.max_length)\n",
    "        \"\"\"\n",
    "        # if list(token2index.keys()) in text.split(\" \"):\n",
    "        #     text_indicies = \n",
    "        # text = np.array(token2index)\n",
    "        # return \n",
    "        tokenized_text = self.tokenize(text)\n",
    "        tokens_indices = self.indexing(tokenized_text)\n",
    "        tokens_indices = self.padding(tokens_indices)\n",
    "        return tokens_indices\n",
    "       \n",
    "\n",
    "        \n",
    "    def collate(self, batch):\n",
    "        \n",
    "        tokenized_texts = list()\n",
    "        labels = list()\n",
    "        \n",
    "        for sample in batch:\n",
    "            tokenized_texts.append(self.__call__(sample[\"text\"]))\n",
    "            labels.append(sample[\"label\"])\n",
    "\n",
    "\n",
    "        tokenized_texts = torch.tensor(tokenized_texts) # перевод в torch.Tensor\n",
    "        labels = torch.tensor(labels) # перевод в torch.Tensor\n",
    "        \n",
    "        return tokenized_texts, labels"
   ]
  },
  {
   "cell_type": "code",
   "execution_count": 19,
   "id": "44ba94d4",
   "metadata": {},
   "outputs": [
    {
     "data": {
      "text/plain": [
       "array([-5.5500e-02, -1.7500e-02,  9.3600e-02,  2.4500e-02, -7.0800e-02,\n",
       "        4.4900e-02,  2.8900e-02,  9.9900e-02, -6.1000e-03, -1.2660e-01,\n",
       "        6.4600e-02, -1.6190e-01,  1.3480e-01, -3.5000e-02,  2.9000e-03,\n",
       "       -8.3100e-02, -1.9700e-02,  9.5500e-02,  2.6500e-02, -7.1400e-02,\n",
       "        4.5000e-02, -1.9740e-01,  1.8700e-02, -2.5000e-03, -2.8500e-02,\n",
       "       -5.5700e-02, -6.0000e-04,  9.2600e-02,  6.5000e-03,  2.6000e-03,\n",
       "       -1.5610e-01, -5.2200e-02, -5.2000e-03,  1.4440e-01, -1.5500e-02,\n",
       "        7.7900e-02, -9.4400e-02, -1.0973e+00,  7.1200e-02,  2.4000e-03,\n",
       "        1.9500e-02, -1.3380e-01,  3.1000e-03,  2.2200e-02, -1.2160e-01,\n",
       "       -2.4000e-03, -7.0900e-02, -2.4600e-02, -9.2600e-02, -1.4630e-01,\n",
       "       -2.0200e-02, -5.1600e-02, -4.9600e-02,  1.3520e-01,  7.9600e-02,\n",
       "       -7.4700e-02,  1.7600e-02,  1.1940e-01, -1.6950e-01,  4.8000e-02,\n",
       "       -5.9600e-01, -8.5400e-02,  1.0160e-01, -1.3600e-02, -2.9600e-02,\n",
       "       -2.1300e-02,  4.4000e-02,  8.9500e-02, -4.9000e-03, -5.7700e-02,\n",
       "        7.8000e-03, -4.4500e-02,  1.1370e-01,  2.5100e-02,  4.0000e-04,\n",
       "        7.4700e-02,  2.5000e-03, -3.1200e-02,  1.5090e-01,  5.6300e-02,\n",
       "        2.1900e-02,  2.4000e-02,  3.0300e-01,  6.3100e-02, -7.2000e-02,\n",
       "       -1.1120e-01,  2.3720e-01, -3.8100e-02, -3.3300e-02, -5.2400e-02,\n",
       "       -1.6440e-01,  5.6800e-02, -4.3300e-02, -2.0030e-01, -1.9000e-02,\n",
       "        3.7600e-02, -6.5200e-02,  2.0000e-02,  3.9840e-01, -5.1600e-02,\n",
       "       -4.6000e-03, -3.9120e-01, -6.2000e-02,  2.7300e-02,  3.2600e-02,\n",
       "        8.7000e-03, -3.6960e-01,  2.3600e-02, -8.6500e-02, -7.0000e-04,\n",
       "        4.8000e-02,  3.7200e-02,  1.3280e-01, -1.2600e-02,  9.6000e-03,\n",
       "       -1.0280e-01, -5.5000e-03,  2.0110e-01, -7.7300e-02, -4.7700e-02,\n",
       "        4.5100e-02,  5.9500e-02,  1.4500e-01, -1.0000e-03,  4.8500e-02,\n",
       "        8.2000e-03, -3.9500e-02, -1.6510e-01,  1.5200e-02, -7.1000e-02,\n",
       "        7.1000e-03,  8.1600e-02,  6.4100e-02, -4.4100e-02, -3.5900e-02,\n",
       "       -7.5000e-03, -2.2100e-01, -3.8700e-02, -2.3400e-01, -8.7000e-03,\n",
       "       -1.6300e-02, -9.9700e-02,  9.6700e-02,  1.9470e-01, -2.1360e-01,\n",
       "       -9.1000e-03,  2.2910e-01,  3.2980e-01,  2.9800e-02, -7.9300e-02,\n",
       "        4.2900e-02, -3.2000e-02,  2.7350e-01,  5.3700e-02,  6.0200e-02,\n",
       "        3.5000e-02, -8.8000e-03, -3.9200e-02, -1.6050e-01, -1.2840e-01,\n",
       "       -1.5200e-02,  5.9700e-02,  8.1200e-02,  7.6000e-03,  7.5900e-02,\n",
       "       -1.1670e-01,  5.6900e-02,  1.8600e-02, -6.9000e-03,  8.6400e-02,\n",
       "       -3.4500e-02,  1.4900e-02, -3.9100e-02, -1.3860e-01, -4.8520e-01,\n",
       "       -6.2400e-02, -1.2670e-01,  4.8500e-02,  8.3400e-02,  1.9500e-02,\n",
       "       -1.6900e-02, -1.3020e-01, -1.8500e-02, -2.1000e-03, -9.0900e-02,\n",
       "       -6.2600e-02,  5.4200e-02,  7.1900e-02, -2.3800e-02, -7.0500e-02,\n",
       "        1.2500e-02,  5.3500e-02,  1.1000e-02,  1.1410e-01,  4.9300e-02,\n",
       "        1.1600e-02, -1.0630e-01,  5.4600e-02, -8.3000e-03, -8.3700e-02,\n",
       "        4.8600e-02, -5.4000e-02,  4.4500e-02, -5.1100e-02, -7.3400e-02,\n",
       "        2.2200e-02, -1.6200e-02,  8.8000e-03, -1.0200e-02,  2.6400e-02,\n",
       "        1.6630e-01, -1.1200e-01, -1.0000e-04, -1.4300e-01, -3.4910e-01,\n",
       "        4.7500e-02, -6.8000e-02, -5.3800e-02,  4.6600e-02, -2.7400e-02,\n",
       "        1.1740e-01,  1.0370e-01,  2.8400e-02,  4.4000e-03, -6.3000e-03,\n",
       "       -1.7000e-02,  4.1700e-02,  1.2000e-02,  5.4000e-03, -1.2340e-01,\n",
       "       -5.1800e-02,  9.9500e-02, -1.5980e-01,  1.9980e-01,  2.5020e-01,\n",
       "       -7.1700e-02,  2.6500e-02, -4.0000e-03,  3.7200e-02, -2.0000e-02,\n",
       "        1.1530e-01,  1.6600e-01, -1.4800e-02, -3.8100e-02,  7.6200e-02,\n",
       "       -7.8100e-02, -8.8400e-02, -7.6600e-02,  1.0510e-01, -6.5200e-02,\n",
       "       -7.2680e-01,  4.8870e-01, -1.2010e-01, -2.5400e-02,  5.0000e-04,\n",
       "        6.3000e-03,  2.0400e-01,  6.8400e-02,  4.0000e-04,  1.3390e-01,\n",
       "       -1.0000e-04,  1.1100e-01,  3.2390e-01,  4.1500e-02, -5.0300e-02,\n",
       "        4.4300e-02,  1.6000e-03,  6.5000e-03, -3.5190e-01,  1.6900e-02,\n",
       "        4.9000e-03, -2.0000e-03,  5.6910e-01,  8.5100e-02,  9.0400e-02,\n",
       "       -7.6500e-02, -5.8800e-02, -5.8100e-02, -1.4700e-02,  2.2300e-02,\n",
       "        1.6490e-01,  3.7800e-02,  2.1000e-03,  1.8600e-02,  9.0300e-02,\n",
       "        6.5000e-02,  1.6000e-03,  1.3530e-01,  1.6690e-01, -4.4600e-02,\n",
       "       -3.9000e-03,  3.0000e-03, -1.9250e-01, -7.8000e-03, -4.2010e-01,\n",
       "        3.7200e-02, -4.8300e-02,  2.0100e-02,  5.3500e-02, -3.5630e-01])"
      ]
     },
     "execution_count": 19,
     "metadata": {},
     "output_type": "execute_result"
    }
   ],
   "source": [
    "embeddings_matrix[3]"
   ]
  },
  {
   "cell_type": "code",
   "execution_count": 20,
   "id": "0d69d067",
   "metadata": {},
   "outputs": [
    {
     "data": {
      "text/plain": [
       "{'PAD': 0,\n",
       " 'UNK': 1,\n",
       " ',': 0,\n",
       " '.': 1,\n",
       " 'и': 2,\n",
       " 'в': 3,\n",
       " '</s>': 4,\n",
       " ':': 5,\n",
       " ')': 6,\n",
       " '(': 7,\n",
       " 'на': 8,\n",
       " '\"': 9,\n",
       " 'с': 10,\n",
       " 'не': 11,\n",
       " '»': 12,\n",
       " 'для': 13,\n",
       " '-': 14,\n",
       " '«': 15,\n",
       " '/': 16,\n",
       " 'по': 17,\n",
       " '—': 18,\n",
       " 'что': 19,\n",
       " 'В': 20,\n",
       " '!': 21,\n",
       " 'из': 22,\n",
       " 'от': 23,\n",
       " 'к': 24,\n",
       " 'как': 25,\n",
       " '?': 26,\n",
       " 'а': 27,\n",
       " '–': 28,\n",
       " 'за': 29,\n",
       " ';': 30,\n",
       " 'о': 31,\n",
       " 'или': 32,\n",
       " 'это': 33,\n",
       " '�': 34,\n",
       " '1': 35,\n",
       " '...': 36,\n",
       " '_': 37,\n",
       " \"'\": 38,\n",
       " 'его': 39,\n",
       " 'у': 40,\n",
       " 'до': 41,\n",
       " '|': 42,\n",
       " '2': 43,\n",
       " 'но': 44,\n",
       " 'все': 45,\n",
       " 'года': 46,\n",
       " '+': 47,\n",
       " 'я': 48,\n",
       " 'то': 49,\n",
       " '%': 50,\n",
       " 'при': 51,\n",
       " 'он': 52,\n",
       " 'так': 53,\n",
       " 'же': 54,\n",
       " 'только': 55,\n",
       " '3': 56,\n",
       " 'их': 57,\n",
       " 'А': 58,\n",
       " 'можно': 59,\n",
       " '#': 60,\n",
       " 'был': 61,\n",
       " 'И': 62,\n",
       " 'время': 63,\n",
       " 'также': 64,\n",
       " 'году': 65,\n",
       " '10': 66,\n",
       " 'было': 67,\n",
       " 'будет': 68,\n",
       " 'может': 69,\n",
       " 'вы': 70,\n",
       " '0': 71,\n",
       " 'уже': 72,\n",
       " '[': 73,\n",
       " ']': 74,\n",
       " '4': 75,\n",
       " '>': 76,\n",
       " 'чтобы': 77,\n",
       " 'есть': 78,\n",
       " 'На': 79,\n",
       " 'если': 80,\n",
       " '5': 81,\n",
       " '…': 82,\n",
       " 'г': 83,\n",
       " 'которые': 84,\n",
       " 'С': 85,\n",
       " 'без': 86,\n",
       " 'со': 87,\n",
       " 'очень': 88,\n",
       " 'бы': 89,\n",
       " 'мы': 90,\n",
       " 'этом': 91,\n",
       " 'более': 92,\n",
       " 'под': 93,\n",
       " 'они': 94,\n",
       " 'быть': 95,\n",
       " 'России': 96,\n",
       " 'во': 97,\n",
       " 'Я': 98}"
      ]
     },
     "execution_count": 20,
     "metadata": {},
     "output_type": "execute_result"
    }
   ],
   "source": [
    "token2index"
   ]
  },
  {
   "cell_type": "code",
   "execution_count": 21,
   "id": "9e17fb6c",
   "metadata": {},
   "outputs": [
    {
     "data": {
      "text/plain": [
       "[{'text': 'Face like miss America... Body like a stripper... Fuck me like a pornstar... N handle business like the 1st lady... Yea i need that...$$$',\n",
       "  'label': 2},\n",
       " {'text': '@user @user By the IRA? On bloody sunday 13 innocent demonstrators where gunned down in cold blood.',\n",
       "  'label': 0}]"
      ]
     },
     "execution_count": 21,
     "metadata": {},
     "output_type": "execute_result"
    }
   ],
   "source": [
    "batch"
   ]
  },
  {
   "cell_type": "code",
   "execution_count": 22,
   "id": "ede957cd",
   "metadata": {},
   "outputs": [
    {
     "data": {
      "text/plain": [
       "'Face like miss America... Body like a stripper... Fuck me like a pornstar... N handle business like the 1st lady... Yea i need that...$$$'"
      ]
     },
     "execution_count": 22,
     "metadata": {},
     "output_type": "execute_result"
    }
   ],
   "source": [
    "batch[0]['text']"
   ]
  },
  {
   "cell_type": "markdown",
   "id": "11ab7e6d",
   "metadata": {},
   "source": [
    "## Перед реализацией выбранного метода\n",
    "Советую, чтобы в итоге `Loader` отдавал кортеж с двумя тензорами:\n",
    "- `torch.Tensor` с индексами токенов, размерность `(batch_size, sequence_length)`\n",
    "- `torch.Tensor` с индексами таргетов, размерность `(batch_size)`\n",
    "\n",
    "То есть, чтобы было так:\n",
    "```python\n",
    "for x, y in train_loader:\n",
    "    ...\n",
    "\n",
    ">> x\n",
    ">> tensor([[   37,  3889,   470,  ...,     0,     0,     0],\n",
    "           [ 1509,   581,   144,  ...,     0,     0,     0],\n",
    "           [ 1804,   893,  2457,  ...,     0,     0,     0],\n",
    "           ...,\n",
    "           [  170, 39526,  2102,  ...,     0,     0,     0],\n",
    "           [ 1217,   172, 28440,  ...,     0,     0,     0],\n",
    "           [   37,    56,   603,  ...,     0,     0,     0]])\n",
    "\n",
    ">> y\n",
    ">> tensor([1, 2, 2, 2, 1, 1, 1, 1, 2, 1, 1, 2, 2, 1, 1, 1, 1, 1, 0, 1, 2, 0, 0, 1,\n",
    "           0, 2, 1, 1, 0, 1, 2, 0, 2, 1, 2, 1, 1, 1, 2, 1, 1, 0, 1, 1, 1, 0, 1, 0,\n",
    "           1, 0, 2, 2, 2, 1, 1, 2, 2, 2, 1, 2, 0, 1, 0, 2, 1, 2, 2, 1, 0, 0, 2, 2,\n",
    "           2, 1, 2, 0, 2, 2, 0, 2, 0, 1, 1, 1, 2, 2, 2, 1, 1, 1, 1, 2, 1, 0, 2, 2,\n",
    "           2, 1, 1, 1, 1, 1, 2, 2, 2, 2, 1, 1, 2, 1, 1, 0, 1, 1, 1, 2, 2, 1, 2, 1,\n",
    "           2, 1, 1, 2, 2, 1, 1, 2])\n",
    "\n",
    ">> x.shape\n",
    ">> torch.Size([128, 64])\n",
    "\n",
    ">> y.shape\n",
    ">> torch.Size([128])\n",
    "```\n",
    "При условии, что батч сайз равен 128, а максимальная длина последовательности равна 64.\n",
    "\n",
    "## Помните"
   ]
  },
  {
   "cell_type": "markdown",
   "id": "018cf71c",
   "metadata": {},
   "source": [
    "## <Место для реализации>"
   ]
  },
  {
   "cell_type": "code",
   "execution_count": 44,
   "id": "d90d7301",
   "metadata": {},
   "outputs": [],
   "source": [
    "tokenizer = Tokenizer(ToktokTokenizer, token2index, 'PAD', 'UNK', 100)"
   ]
  },
  {
   "cell_type": "code",
   "execution_count": 45,
   "id": "6dc61cb4",
   "metadata": {},
   "outputs": [
    {
     "data": {
      "text/plain": [
       "(tensor([[ 1,  1,  1,  1, 36,  1,  1,  1,  1, 36,  1,  1,  1,  1,  1, 36,  1,  1,\n",
       "           1,  1,  1,  1,  1, 36,  1,  1,  1,  1, 36,  1,  1,  1,  0,  0,  0,  0,\n",
       "           0,  0,  0,  0,  0,  0,  0,  0,  0,  0,  0,  0,  0,  0,  0,  0,  0,  0,\n",
       "           0,  0,  0,  0,  0,  0,  0,  0,  0,  0,  0,  0,  0,  0,  0,  0,  0,  0,\n",
       "           0,  0,  0,  0,  0,  0,  0,  0,  0,  0,  0,  0,  0,  0,  0,  0,  0,  0,\n",
       "           0,  0,  0,  0,  0,  0,  0,  0,  0,  0],\n",
       "         [ 1,  1,  1,  1,  1, 26,  1,  1,  1,  1,  1,  1,  1,  1,  1,  1,  1,  1,\n",
       "           1,  0,  0,  0,  0,  0,  0,  0,  0,  0,  0,  0,  0,  0,  0,  0,  0,  0,\n",
       "           0,  0,  0,  0,  0,  0,  0,  0,  0,  0,  0,  0,  0,  0,  0,  0,  0,  0,\n",
       "           0,  0,  0,  0,  0,  0,  0,  0,  0,  0,  0,  0,  0,  0,  0,  0,  0,  0,\n",
       "           0,  0,  0,  0,  0,  0,  0,  0,  0,  0,  0,  0,  0,  0,  0,  0,  0,  0,\n",
       "           0,  0,  0,  0,  0,  0,  0,  0,  0,  0]]),\n",
       " tensor([2, 0]))"
      ]
     },
     "execution_count": 45,
     "metadata": {},
     "output_type": "execute_result"
    }
   ],
   "source": [
    "tokenizer.collate(batch)"
   ]
  },
  {
   "cell_type": "code",
   "execution_count": 46,
   "id": "40268f8c",
   "metadata": {},
   "outputs": [],
   "source": [
    "train_loader = DataLoader(train_dataset, batch_size=2, shuffle=True, collate_fn=tokenizer.collate)\n",
    "valid_loader = DataLoader(valid_dataset, batch_size=2, shuffle=True, collate_fn=tokenizer.collate)\n",
    "test_loader = DataLoader(test_dataset, batch_size=2, shuffle=True, collate_fn=tokenizer.collate)"
   ]
  },
  {
   "cell_type": "code",
   "execution_count": 47,
   "id": "d293b759",
   "metadata": {},
   "outputs": [],
   "source": [
    "for x, y in train_loader:\n",
    "    break"
   ]
  },
  {
   "cell_type": "code",
   "execution_count": 48,
   "id": "87752ad7",
   "metadata": {},
   "outputs": [],
   "source": [
    "assert(isinstance(x, torch.Tensor))\n",
    "assert(len(x.size()) == 2)\n",
    "\n",
    "assert(isinstance(y, torch.Tensor))\n",
    "assert(len(y.size()) == 1)"
   ]
  },
  {
   "cell_type": "markdown",
   "id": "dbc96104",
   "metadata": {},
   "source": [
    "# Реализация DAN\n",
    "\n",
    "На вход модели будут подавать индексы слов\n",
    "\n",
    "Шаги:\n",
    "- Переводим индексы слов в эмбеддинги\n",
    "- Усредняем эмбеддинги\n",
    "- Пропускаем усредненные эмбеддинги через `Multilayer Perceptron`\n",
    "    - Нужно реализовать самому\n",
    "\n",
    "### Что нужно сделать в домашке с точки зрения архитектуры сети:\n",
    "- Реализовать skip-connection (residual connection) в линейном слое\n",
    "- Написать свой слой, в котором будут (порядок слоев ниже напутан, так что сами подумайте в каком порядке стоит расположить эти слои) :\n",
    "  - `Dropout`\n",
    "  - `BatchNorm` / `LayerNorm`\n",
    "  - `Residual`, если вы не меняете размерность векторов\n",
    "  - Функция активации\n",
    "  - Линейный слой\n",
    "\n",
    "### Опциональные задания:\n",
    "- Использовать токенизатор и слой эмбеддингов от предобученного трансформера из библиотеки `transformers`\n",
    "- Сделать усреднение эмбеддингов с учетом падов\n",
    "  - Мы используем пады, чтобы сделать единую длину последовательностей в батче\n",
    "    - То есть у нас максимальная длина в батче, например, 16 токенов, поэтому ко всем последовательностям, у которых длина ниже мы добавляем `16 - len(sequence)` падов\n",
    "  - То есть получается так, что усредненный вектор предложения зависит от максимальный длины в батче, потому что\n",
    "    - Среднее вектора `[1, 2, 3]` будет `2`. Среднее вектора `[1, 2, 3, 0, 0]` будет `1.2`\n",
    "    - Получается, что усредняя с падами мы получаем \"неправильный\" вектор\n",
    "  - То есть наши предсказания будут зависеть от того сколько падов у нас есть в предложении\n",
    "  - Когда мы будем использовать нашу сетку в реальном процессе, скорее всего, мы будем подавать в нее по одному примеру, где падов не будет\n",
    "    - То есть получается мы будем использовать нашу модель не в той же среде, как и обучали\n",
    "      - Потому что наши входы меняются, мы не используем пады, результат усреднения другой\n",
    "    - Это называется `distribution shift`, то есть когда мы учимся на одних данных, а используем на других\n",
    "      - Это не всегда плохо, потому что иногда только так мы и можем учиться, например, когда мало данных нужного домена\n",
    "      - Это плохо тогда, когда мы вносим это \"случайно\", например, как с неправильным усреднением, то есть это своебразный баг\n"
   ]
  },
  {
   "cell_type": "markdown",
   "id": "123324f0",
   "metadata": {},
   "source": [
    "## До обучения\n",
    "- Выберите метрику(ки) качества и расскажите почему она(они)\n",
    "    - Обычно есть основная метрика, по которой принимаем решения какие веса брать и дополнительные, которые нам помогут делать выводы, например, о том все ли хорошо с нашими данными, хорошо ли модель справляется с дисбалансом классов и тд\n",
    "- Эту домашку можно сделать и на `CPU`, но на `GPU` будет сильно быстрее\n",
    "    - Во всех остальных домашках мы будем учить модели на `GPU`\n",
    "    - Рано или поздно вам придется посмотреть этот [туториал](https://www.youtube.com/watch?v=pgk1zGv5lU4)\n",
    "    - Вы можете обучаться на `colab`, это бесплатно\n",
    "\n",
    "## До эпохи\n",
    "- Сделайте списки/словари/другое, чтобы сохранять нужные данные для расчета метрик(и) по всей эпохе для трейна и валидации\n",
    "\n",
    "## Во время эпохи\n",
    "- Используйте [`tqdm`](https://github.com/tqdm/tqdm) как прогресс бар, чтобы понимать как проходит ваше обучение\n",
    "- Логируйте лосс\n",
    "- Логируйте метрику(ки) по батчу\n",
    "- Сохраняйте то, что вам нужно, чтобы посчитать метрик(и) на всю эпоху для трейна и валидации\n",
    "\n",
    "## После эпохи\n",
    "- Посчитайте метрик(и) на всю эпоху для трейна и валидации\n",
    "\n",
    "## После обучения\n",
    "- Провалидируйтесь на тестовом наборе и посмотрите метрики\n",
    "- Постройте [`classification_report`](https://scikit-learn.org/stable/modules/generated/sklearn.metrics.classification_report.html)\n",
    "- Постройте графики:\n",
    "    - [Confusion Matrix](https://scikit-learn.org/stable/modules/model_evaluation.html#confusion-matrix)\n",
    "    - [Опционально] Распределение вероятностей мажоритарного класса (то есть для какого-то примера мы выбираем такой класс и вероятность этого выбора такая-то) на трейне/тесте/валидации\n",
    "        - Если класс был выбран верно и если была ошибка\n",
    "- Подумайте что еще вам будет полезно для того, чтобы ответить на такие вопросы: \n",
    "    - Что в моделе можно улучшить?\n",
    "    - Все ли хорошо с моими данными?\n",
    "    - Все ли хорошо с валидацией?\n",
    "    - Не переобучился ли я?\n",
    "    - Достаточно ли я посмотрел на данные?\n",
    "    - Нужно ли мне улучшить предобработку данных?\n",
    "    - Нужно ли поменять токенизацию или эмбеддинги?\n",
    "    - Нет ли у меня багов в реализации?\n",
    "    - Какие типичные ошибки у моей модели?\n",
    "    - Как я могу их исправить?"
   ]
  },
  {
   "cell_type": "markdown",
   "id": "ff1f451c",
   "metadata": {},
   "source": [
    "# Я выбрал метрику <МЕТРИКА>\n",
    "\n",
    "> Это моя метрика. Таких метрик много, но эта моя. Моя метрика — мой лучший друг. Это — моя жизнь. Я должен научиться владеть метрикой так же, как владею своей жизнью. Без меня моя метрика бесполезна. Без моей метрики бесполезен я. Я должен метко обучать модель на оптимизацию моей метрики. Я должен обучать точнее, чем конкурент, который пытается меня обойти. Я должен обучить модель лучше до того, как он обучит свою. И я это сделаю. Клянусь перед тим лидом. Я и моя метрика — мы защитники моей галеры. Мы не боимся конкурентов. Мы спасители ROI нашего отдела. Пусть будет так. Пока не останется больше конкурентов и не наступит эпоха AGI. Трансформер.\n",
    "\n",
    "Почему я выбрал эту метрику:  \n",
    "<РАССКАЗ_ПРО_МЕТРИКУ>"
   ]
  },
  {
   "cell_type": "code",
   "execution_count": 43,
   "id": "239a5e17",
   "metadata": {},
   "outputs": [
    {
     "data": {
      "text/plain": [
       "array([[ 0.000e+00,  0.000e+00,  0.000e+00, ...,  0.000e+00,  0.000e+00,\n",
       "         0.000e+00],\n",
       "       [ 0.000e+00,  0.000e+00,  0.000e+00, ...,  0.000e+00,  0.000e+00,\n",
       "         0.000e+00],\n",
       "       [-3.260e-02, -1.499e-01,  2.320e-02, ..., -2.370e-02, -2.610e-02,\n",
       "        -1.832e-01],\n",
       "       ...,\n",
       "       [ 7.530e-02, -3.280e-02,  1.960e-02, ...,  1.000e-04, -1.710e-02,\n",
       "         3.800e-03],\n",
       "       [ 2.260e-02,  5.610e-02,  3.730e-02, ..., -6.020e-02,  1.041e-01,\n",
       "         3.920e-01],\n",
       "       [ 1.692e-01,  6.980e-02, -1.120e-02, ...,  7.210e-02, -5.685e-01,\n",
       "        -2.003e-01]])"
      ]
     },
     "execution_count": 43,
     "metadata": {},
     "output_type": "execute_result"
    }
   ],
   "source": [
    "embeddings_matrix"
   ]
  },
  {
   "cell_type": "code",
   "execution_count": 54,
   "id": "da42260c",
   "metadata": {},
   "outputs": [],
   "source": [
    "class DeepAverageNetwork(nn.Module):\n",
    "    def __init__(self):\n",
    "        super(DeepAverageNetwork, self).__init__()\n",
    "        self.embeddings = nn.Embedding.from_pretrained(torch.FloatTensor(embeddings_matrix))\n",
    "        self.embeddings_dim = embeddings_matrix.shape[-1]\n",
    "        self.fc1 = nn.Linear(self.embeddings_dim, 128)\n",
    "        self.fc2 = nn.Linear(128, 64)\n",
    "        self.fc3 = nn.Linear(64, 64)\n",
    "        self.fc4 = nn.Linear(64, 64)\n",
    "        self.fc5 = nn.Linear(64, 3)\n",
    "        self.dropout = nn.Dropout(0.2)\n",
    "        self.relu = nn.ReLU()\n",
    "        self.sigmoid = nn.Sigmoid()\n",
    "        self.batchnorm1 = nn.BatchNorm1d(self.embeddings_dim)\n",
    "\n",
    "        # self.sequential = nn.Sequential(\n",
    "        #     nn.\n",
    "\n",
    "            \n",
    "\n",
    "    def forward(self, x):\n",
    "        x = self.embeddings(x)\n",
    "        x = torch.mean(x, dim=1)\n",
    "        \n",
    "        x1 = self.fc1(x)\n",
    "        x1 = self.batchnorm1(x1)\n",
    "        x1 = self.relu(x1)\n",
    "        \n",
    "   \n",
    "        x2 = self.fc2(x1)\n",
    "        x2 = self.batchnorm1(x2)\n",
    "        x2 = self.relu(x2)\n",
    "     \n",
    "        x3 = self.fc3(x2)\n",
    "        x3 = self.batchnorm1(x3)\n",
    "        x3 = self.relu(x3)\n",
    "\n",
    "        x4 = self.fc4(x3+x2)\n",
    "        x4 = self.batchnorm1(x4)\n",
    "        x4 = self.relu(x4)\n",
    "        x4 = self.dropout(x4)\n",
    "\n",
    "        \n",
    "        x5 = self.fc5(x4+x1)\n",
    "        x5 = self.sigmoid(x5)\n",
    "       \n",
    "        return x\n"
   ]
  },
  {
   "cell_type": "code",
   "execution_count": 55,
   "id": "7966f715",
   "metadata": {},
   "outputs": [],
   "source": [
    "model = DeepAverageNetwork()"
   ]
  },
  {
   "cell_type": "code",
   "execution_count": 56,
   "id": "4b4a2161",
   "metadata": {},
   "outputs": [
    {
     "data": {
      "text/plain": [
       "DeepAverageNetwork(\n",
       "  (embeddings): Embedding(101, 300)\n",
       "  (fc1): Linear(in_features=300, out_features=128, bias=True)\n",
       "  (fc2): Linear(in_features=128, out_features=64, bias=True)\n",
       "  (fc3): Linear(in_features=64, out_features=64, bias=True)\n",
       "  (fc4): Linear(in_features=64, out_features=64, bias=True)\n",
       "  (fc5): Linear(in_features=64, out_features=3, bias=True)\n",
       "  (dropout): Dropout(p=0.2, inplace=False)\n",
       "  (relu): ReLU()\n",
       "  (sigmoid): Sigmoid()\n",
       "  (batchnorm1): BatchNorm1d(300, eps=1e-05, momentum=0.1, affine=True, track_running_stats=True)\n",
       ")"
      ]
     },
     "execution_count": 56,
     "metadata": {},
     "output_type": "execute_result"
    }
   ],
   "source": [
    "model"
   ]
  },
  {
   "cell_type": "markdown",
   "id": "5efad1d1",
   "metadata": {},
   "source": [
    "## Задайте функцию потерь и оптимизатор"
   ]
  },
  {
   "cell_type": "code",
   "execution_count": 52,
   "id": "42a8588b",
   "metadata": {},
   "outputs": [],
   "source": [
    "loss_fn = nn.CrossEntropyLoss()\n",
    "optimizer = torch.optim.SGD(model.parameters(), lr=5)"
   ]
  },
  {
   "cell_type": "code",
   "execution_count": null,
   "id": "34c552fa",
   "metadata": {},
   "outputs": [],
   "source": []
  },
  {
   "cell_type": "markdown",
   "id": "628847fe",
   "metadata": {},
   "source": [
    "## Сделайте цикл обучения"
   ]
  },
  {
   "cell_type": "code",
   "execution_count": 53,
   "id": "bc5b9ff4",
   "metadata": {},
   "outputs": [
    {
     "name": "stdout",
     "output_type": "stream",
     "text": [
      "0\n"
     ]
    },
    {
     "ename": "RuntimeError",
     "evalue": "running_mean should contain 128 elements not 300",
     "output_type": "error",
     "traceback": [
      "\u001b[0;31m---------------------------------------------------------------------------\u001b[0m",
      "\u001b[0;31mRuntimeError\u001b[0m                              Traceback (most recent call last)",
      "Cell \u001b[0;32mIn [53], line 27\u001b[0m\n\u001b[1;32m     24\u001b[0m optimizer\u001b[39m.\u001b[39mzero_grad()\n\u001b[1;32m     26\u001b[0m \u001b[39m# Do forward propagation to get the model's belief\u001b[39;00m\n\u001b[0;32m---> 27\u001b[0m logits \u001b[39m=\u001b[39m model(X)\n\u001b[1;32m     29\u001b[0m \u001b[39m# Compute the loss\u001b[39;00m\n\u001b[1;32m     30\u001b[0m loss \u001b[39m=\u001b[39m loss_fn(logits, y\u001b[39m.\u001b[39mlong())\n",
      "File \u001b[0;32m/opt/conda/lib/python3.10/site-packages/torch/nn/modules/module.py:1130\u001b[0m, in \u001b[0;36mModule._call_impl\u001b[0;34m(self, *input, **kwargs)\u001b[0m\n\u001b[1;32m   1126\u001b[0m \u001b[39m# If we don't have any hooks, we want to skip the rest of the logic in\u001b[39;00m\n\u001b[1;32m   1127\u001b[0m \u001b[39m# this function, and just call forward.\u001b[39;00m\n\u001b[1;32m   1128\u001b[0m \u001b[39mif\u001b[39;00m \u001b[39mnot\u001b[39;00m (\u001b[39mself\u001b[39m\u001b[39m.\u001b[39m_backward_hooks \u001b[39mor\u001b[39;00m \u001b[39mself\u001b[39m\u001b[39m.\u001b[39m_forward_hooks \u001b[39mor\u001b[39;00m \u001b[39mself\u001b[39m\u001b[39m.\u001b[39m_forward_pre_hooks \u001b[39mor\u001b[39;00m _global_backward_hooks\n\u001b[1;32m   1129\u001b[0m         \u001b[39mor\u001b[39;00m _global_forward_hooks \u001b[39mor\u001b[39;00m _global_forward_pre_hooks):\n\u001b[0;32m-> 1130\u001b[0m     \u001b[39mreturn\u001b[39;00m forward_call(\u001b[39m*\u001b[39;49m\u001b[39minput\u001b[39;49m, \u001b[39m*\u001b[39;49m\u001b[39m*\u001b[39;49mkwargs)\n\u001b[1;32m   1131\u001b[0m \u001b[39m# Do not call functions when jit is used\u001b[39;00m\n\u001b[1;32m   1132\u001b[0m full_backward_hooks, non_full_backward_hooks \u001b[39m=\u001b[39m [], []\n",
      "Cell \u001b[0;32mIn [49], line 23\u001b[0m, in \u001b[0;36mDeepAverageNetwork.forward\u001b[0;34m(self, x)\u001b[0m\n\u001b[1;32m     20\u001b[0m x \u001b[39m=\u001b[39m torch\u001b[39m.\u001b[39mmean(x, dim\u001b[39m=\u001b[39m\u001b[39m1\u001b[39m)\n\u001b[1;32m     22\u001b[0m x1 \u001b[39m=\u001b[39m \u001b[39mself\u001b[39m\u001b[39m.\u001b[39mfc1(x)\n\u001b[0;32m---> 23\u001b[0m x1 \u001b[39m=\u001b[39m \u001b[39mself\u001b[39;49m\u001b[39m.\u001b[39;49mbatchnorm1(x1)\n\u001b[1;32m     24\u001b[0m x1 \u001b[39m=\u001b[39m \u001b[39mself\u001b[39m\u001b[39m.\u001b[39mrelu(x1)\n\u001b[1;32m     26\u001b[0m x2 \u001b[39m=\u001b[39m \u001b[39mself\u001b[39m\u001b[39m.\u001b[39mfc2(x1)\n",
      "File \u001b[0;32m/opt/conda/lib/python3.10/site-packages/torch/nn/modules/module.py:1130\u001b[0m, in \u001b[0;36mModule._call_impl\u001b[0;34m(self, *input, **kwargs)\u001b[0m\n\u001b[1;32m   1126\u001b[0m \u001b[39m# If we don't have any hooks, we want to skip the rest of the logic in\u001b[39;00m\n\u001b[1;32m   1127\u001b[0m \u001b[39m# this function, and just call forward.\u001b[39;00m\n\u001b[1;32m   1128\u001b[0m \u001b[39mif\u001b[39;00m \u001b[39mnot\u001b[39;00m (\u001b[39mself\u001b[39m\u001b[39m.\u001b[39m_backward_hooks \u001b[39mor\u001b[39;00m \u001b[39mself\u001b[39m\u001b[39m.\u001b[39m_forward_hooks \u001b[39mor\u001b[39;00m \u001b[39mself\u001b[39m\u001b[39m.\u001b[39m_forward_pre_hooks \u001b[39mor\u001b[39;00m _global_backward_hooks\n\u001b[1;32m   1129\u001b[0m         \u001b[39mor\u001b[39;00m _global_forward_hooks \u001b[39mor\u001b[39;00m _global_forward_pre_hooks):\n\u001b[0;32m-> 1130\u001b[0m     \u001b[39mreturn\u001b[39;00m forward_call(\u001b[39m*\u001b[39;49m\u001b[39minput\u001b[39;49m, \u001b[39m*\u001b[39;49m\u001b[39m*\u001b[39;49mkwargs)\n\u001b[1;32m   1131\u001b[0m \u001b[39m# Do not call functions when jit is used\u001b[39;00m\n\u001b[1;32m   1132\u001b[0m full_backward_hooks, non_full_backward_hooks \u001b[39m=\u001b[39m [], []\n",
      "File \u001b[0;32m/opt/conda/lib/python3.10/site-packages/torch/nn/modules/batchnorm.py:168\u001b[0m, in \u001b[0;36m_BatchNorm.forward\u001b[0;34m(self, input)\u001b[0m\n\u001b[1;32m    161\u001b[0m     bn_training \u001b[39m=\u001b[39m (\u001b[39mself\u001b[39m\u001b[39m.\u001b[39mrunning_mean \u001b[39mis\u001b[39;00m \u001b[39mNone\u001b[39;00m) \u001b[39mand\u001b[39;00m (\u001b[39mself\u001b[39m\u001b[39m.\u001b[39mrunning_var \u001b[39mis\u001b[39;00m \u001b[39mNone\u001b[39;00m)\n\u001b[1;32m    163\u001b[0m \u001b[39mr\u001b[39m\u001b[39m\"\"\"\u001b[39;00m\n\u001b[1;32m    164\u001b[0m \u001b[39mBuffers are only updated if they are to be tracked and we are in training mode. Thus they only need to be\u001b[39;00m\n\u001b[1;32m    165\u001b[0m \u001b[39mpassed when the update should occur (i.e. in training mode when they are tracked), or when buffer stats are\u001b[39;00m\n\u001b[1;32m    166\u001b[0m \u001b[39mused for normalization (i.e. in eval mode when buffers are not None).\u001b[39;00m\n\u001b[1;32m    167\u001b[0m \u001b[39m\"\"\"\u001b[39;00m\n\u001b[0;32m--> 168\u001b[0m \u001b[39mreturn\u001b[39;00m F\u001b[39m.\u001b[39;49mbatch_norm(\n\u001b[1;32m    169\u001b[0m     \u001b[39minput\u001b[39;49m,\n\u001b[1;32m    170\u001b[0m     \u001b[39m# If buffers are not to be tracked, ensure that they won't be updated\u001b[39;49;00m\n\u001b[1;32m    171\u001b[0m     \u001b[39mself\u001b[39;49m\u001b[39m.\u001b[39;49mrunning_mean\n\u001b[1;32m    172\u001b[0m     \u001b[39mif\u001b[39;49;00m \u001b[39mnot\u001b[39;49;00m \u001b[39mself\u001b[39;49m\u001b[39m.\u001b[39;49mtraining \u001b[39mor\u001b[39;49;00m \u001b[39mself\u001b[39;49m\u001b[39m.\u001b[39;49mtrack_running_stats\n\u001b[1;32m    173\u001b[0m     \u001b[39melse\u001b[39;49;00m \u001b[39mNone\u001b[39;49;00m,\n\u001b[1;32m    174\u001b[0m     \u001b[39mself\u001b[39;49m\u001b[39m.\u001b[39;49mrunning_var \u001b[39mif\u001b[39;49;00m \u001b[39mnot\u001b[39;49;00m \u001b[39mself\u001b[39;49m\u001b[39m.\u001b[39;49mtraining \u001b[39mor\u001b[39;49;00m \u001b[39mself\u001b[39;49m\u001b[39m.\u001b[39;49mtrack_running_stats \u001b[39melse\u001b[39;49;00m \u001b[39mNone\u001b[39;49;00m,\n\u001b[1;32m    175\u001b[0m     \u001b[39mself\u001b[39;49m\u001b[39m.\u001b[39;49mweight,\n\u001b[1;32m    176\u001b[0m     \u001b[39mself\u001b[39;49m\u001b[39m.\u001b[39;49mbias,\n\u001b[1;32m    177\u001b[0m     bn_training,\n\u001b[1;32m    178\u001b[0m     exponential_average_factor,\n\u001b[1;32m    179\u001b[0m     \u001b[39mself\u001b[39;49m\u001b[39m.\u001b[39;49meps,\n\u001b[1;32m    180\u001b[0m )\n",
      "File \u001b[0;32m/opt/conda/lib/python3.10/site-packages/torch/nn/functional.py:2438\u001b[0m, in \u001b[0;36mbatch_norm\u001b[0;34m(input, running_mean, running_var, weight, bias, training, momentum, eps)\u001b[0m\n\u001b[1;32m   2435\u001b[0m \u001b[39mif\u001b[39;00m training:\n\u001b[1;32m   2436\u001b[0m     _verify_batch_size(\u001b[39minput\u001b[39m\u001b[39m.\u001b[39msize())\n\u001b[0;32m-> 2438\u001b[0m \u001b[39mreturn\u001b[39;00m torch\u001b[39m.\u001b[39;49mbatch_norm(\n\u001b[1;32m   2439\u001b[0m     \u001b[39minput\u001b[39;49m, weight, bias, running_mean, running_var, training, momentum, eps, torch\u001b[39m.\u001b[39;49mbackends\u001b[39m.\u001b[39;49mcudnn\u001b[39m.\u001b[39;49menabled\n\u001b[1;32m   2440\u001b[0m )\n",
      "\u001b[0;31mRuntimeError\u001b[0m: running_mean should contain 128 elements not 300"
     ]
    }
   ],
   "source": [
    "num_epochs = 2  # Задайте количество эпох\n",
    "\n",
    "model.train()\n",
    "\n",
    "for epoch in range(num_epochs):\n",
    "    \n",
    "    # Define the following variables to keep track of the running losses and accuracies\n",
    "    running_loss = 0.0\n",
    "    running_f1 = 0.0\n",
    "    count = 0\n",
    "    \n",
    "    for i, (X, y) in enumerate(train_loader):\n",
    "        \n",
    "        print(i)\n",
    "        if i>2:\n",
    "            break\n",
    "        \n",
    "        # use gpu if necessary\n",
    "#         if gpu_available:\n",
    "#             X = X.cuda()\n",
    "#             y = y.cuda()\n",
    "        \n",
    "        # clear the gradient buffer\n",
    "        optimizer.zero_grad()\n",
    "        \n",
    "        # Do forward propagation to get the model's belief\n",
    "        logits = model(X)\n",
    "        \n",
    "        # Compute the loss\n",
    "        loss = loss_fn(logits, y.long())\n",
    "        \n",
    "        # Run a backward propagation to get the gradient\n",
    "        loss.backward()\n",
    "        \n",
    "        # Update the model's parameter\n",
    "        optimizer.step()\n",
    "        \n",
    "        # Get the model's prediction \n",
    "        pred = torch.argmax(logits,dim=1)\n",
    "        \n",
    "        # Update the running statistics\n",
    "        running_f1 += f1_score(y, pred, average='weighted')\n",
    "        running_loss += loss.item()\n",
    "        count += X.size(0)\n",
    "        \n",
    "    # print the running statistics after training for 100 epochs\n",
    "#     if (epoch + 1) % 100 == 0:\n",
    "#         print('Epoch [{} / {}] Average Training Accuracy: {:4f}'.format(epoch + 1, \\\n",
    "#                                                                         num_epochs, running_acc / count))\n",
    "#         print('Epoch [{} / {}] Average Training loss: {:4f}'.format(epoch + 1, \\\n",
    "#                                                                     num_epochs, running_loss / len(trainloader)))\n",
    "    \n",
    "    # train\n",
    "    ...\n",
    "\n",
    "    # validation\n",
    "    ...\n",
    "    \n",
    "# test\n",
    "..."
   ]
  },
  {
   "cell_type": "markdown",
   "id": "744bc39c",
   "metadata": {},
   "source": []
  },
  {
   "cell_type": "code",
   "execution_count": null,
   "id": "b634b9ce",
   "metadata": {},
   "outputs": [
    {
     "data": {
      "text/plain": [
       "Ellipsis"
      ]
     },
     "execution_count": 20,
     "metadata": {},
     "output_type": "execute_result"
    }
   ],
   "source": [
    "NUM_EPOCHS = 2  # Задайте количество эпох\n",
    "\n",
    "...\n",
    "\n",
    "for n_epoch in range(NUM_EPOCHS):\n",
    "    \n",
    "    ...\n",
    "    \n",
    "    # train\n",
    "    ...\n",
    "\n",
    "    # validation\n",
    "    ...\n",
    "    \n",
    "# test\n",
    "..."
   ]
  },
  {
   "cell_type": "markdown",
   "id": "87583e79",
   "metadata": {},
   "source": [
    "# Выводы\n",
    "Напишите небольшой отчет о проделанной работе. Что удалось, в чем не уверены, что делать дальше."
   ]
  },
  {
   "cell_type": "code",
   "execution_count": null,
   "id": "c3ad7f80",
   "metadata": {},
   "outputs": [],
   "source": []
  }
 ],
 "metadata": {
  "kernelspec": {
   "display_name": "Python 3.10.6 ('base')",
   "language": "python",
   "name": "python3"
  },
  "language_info": {
   "codemirror_mode": {
    "name": "ipython",
    "version": 3
   },
   "file_extension": ".py",
   "mimetype": "text/x-python",
   "name": "python",
   "nbconvert_exporter": "python",
   "pygments_lexer": "ipython3",
   "version": "3.10.6"
  },
  "vscode": {
   "interpreter": {
    "hash": "d4d1e4263499bec80672ea0156c357c1ee493ec2b1c70f0acce89fc37c4a6abe"
   }
  }
 },
 "nbformat": 4,
 "nbformat_minor": 5
}
